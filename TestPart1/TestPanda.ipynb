{
 "cells": [
  {
   "cell_type": "code",
   "execution_count": 3,
   "id": "61790068-2779-46d3-86cc-b4c8bcddc362",
   "metadata": {},
   "outputs": [
    {
     "data": {
      "text/html": [
       "<div>\n",
       "<style scoped>\n",
       "    .dataframe tbody tr th:only-of-type {\n",
       "        vertical-align: middle;\n",
       "    }\n",
       "\n",
       "    .dataframe tbody tr th {\n",
       "        vertical-align: top;\n",
       "    }\n",
       "\n",
       "    .dataframe thead th {\n",
       "        text-align: right;\n",
       "    }\n",
       "</style>\n",
       "<table border=\"1\" class=\"dataframe\">\n",
       "  <thead>\n",
       "    <tr style=\"text-align: right;\">\n",
       "      <th></th>\n",
       "      <th>dlg_id</th>\n",
       "      <th>line_n</th>\n",
       "      <th>role</th>\n",
       "      <th>text</th>\n",
       "    </tr>\n",
       "  </thead>\n",
       "  <tbody>\n",
       "    <tr>\n",
       "      <th>0</th>\n",
       "      <td>0</td>\n",
       "      <td>0</td>\n",
       "      <td>client</td>\n",
       "      <td>Алло</td>\n",
       "    </tr>\n",
       "    <tr>\n",
       "      <th>1</th>\n",
       "      <td>0</td>\n",
       "      <td>1</td>\n",
       "      <td>manager</td>\n",
       "      <td>Алло здравствуйте</td>\n",
       "    </tr>\n",
       "    <tr>\n",
       "      <th>2</th>\n",
       "      <td>0</td>\n",
       "      <td>2</td>\n",
       "      <td>client</td>\n",
       "      <td>Добрый день</td>\n",
       "    </tr>\n",
       "    <tr>\n",
       "      <th>3</th>\n",
       "      <td>0</td>\n",
       "      <td>3</td>\n",
       "      <td>manager</td>\n",
       "      <td>Меня зовут ангелина компания диджитал бизнес з...</td>\n",
       "    </tr>\n",
       "    <tr>\n",
       "      <th>4</th>\n",
       "      <td>0</td>\n",
       "      <td>4</td>\n",
       "      <td>client</td>\n",
       "      <td>Ага</td>\n",
       "    </tr>\n",
       "  </tbody>\n",
       "</table>\n",
       "</div>"
      ],
      "text/plain": [
       "   dlg_id  line_n     role                                               text\n",
       "0       0       0   client                                               Алло\n",
       "1       0       1  manager                                  Алло здравствуйте\n",
       "2       0       2   client                                        Добрый день\n",
       "3       0       3  manager  Меня зовут ангелина компания диджитал бизнес з...\n",
       "4       0       4   client                                                Ага"
      ]
     },
     "execution_count": 3,
     "metadata": {},
     "output_type": "execute_result"
    }
   ],
   "source": [
    "import pandas as pd\n",
    "test_data = pd.read_csv('test_data.csv')\n",
    "test_data.head()"
   ]
  },
  {
   "cell_type": "code",
   "execution_count": 13,
   "id": "360a356b-2877-40f1-86f6-76bd89b05cbc",
   "metadata": {},
   "outputs": [
    {
     "data": {
      "text/html": [
       "<div>\n",
       "<style scoped>\n",
       "    .dataframe tbody tr th:only-of-type {\n",
       "        vertical-align: middle;\n",
       "    }\n",
       "\n",
       "    .dataframe tbody tr th {\n",
       "        vertical-align: top;\n",
       "    }\n",
       "\n",
       "    .dataframe thead th {\n",
       "        text-align: right;\n",
       "    }\n",
       "</style>\n",
       "<table border=\"1\" class=\"dataframe\">\n",
       "  <thead>\n",
       "    <tr style=\"text-align: right;\">\n",
       "      <th></th>\n",
       "      <th>dlg_id</th>\n",
       "      <th>line_n</th>\n",
       "      <th>role</th>\n",
       "      <th>text</th>\n",
       "      <th>greeting</th>\n",
       "    </tr>\n",
       "  </thead>\n",
       "  <tbody>\n",
       "    <tr>\n",
       "      <th>1</th>\n",
       "      <td>0</td>\n",
       "      <td>1</td>\n",
       "      <td>manager</td>\n",
       "      <td>Алло здравствуйте</td>\n",
       "      <td>True</td>\n",
       "    </tr>\n",
       "    <tr>\n",
       "      <th>110</th>\n",
       "      <td>1</td>\n",
       "      <td>1</td>\n",
       "      <td>manager</td>\n",
       "      <td>Алло здравствуйте</td>\n",
       "      <td>True</td>\n",
       "    </tr>\n",
       "    <tr>\n",
       "      <th>166</th>\n",
       "      <td>2</td>\n",
       "      <td>2</td>\n",
       "      <td>manager</td>\n",
       "      <td>Алло здравствуйте</td>\n",
       "      <td>True</td>\n",
       "    </tr>\n",
       "    <tr>\n",
       "      <th>250</th>\n",
       "      <td>3</td>\n",
       "      <td>1</td>\n",
       "      <td>manager</td>\n",
       "      <td>Алло дмитрий добрый день</td>\n",
       "      <td>True</td>\n",
       "    </tr>\n",
       "  </tbody>\n",
       "</table>\n",
       "</div>"
      ],
      "text/plain": [
       "     dlg_id  line_n     role                      text  greeting\n",
       "1         0       1  manager         Алло здравствуйте      True\n",
       "110       1       1  manager         Алло здравствуйте      True\n",
       "166       2       2  manager         Алло здравствуйте      True\n",
       "250       3       1  manager  Алло дмитрий добрый день      True"
      ]
     },
     "execution_count": 13,
     "metadata": {},
     "output_type": "execute_result"
    }
   ],
   "source": [
    "# Поиск подстрок без цикла по всем строкам датафрейма. Task 1. Извлекать реплики с приветствием – где менеджер поздоровался\n",
    "greetings = ['здравствуйте', 'добрый день', 'доброе утро', 'добрый вечер']\n",
    "df = pd.read_csv('test_data.csv')\n",
    "df['greeting'] = df['text'].str.lower().str.contains('|'.join(greetings))\n",
    "df[df['greeting'] & (df['role'] == 'manager')]\n"
   ]
  },
  {
   "cell_type": "code",
   "execution_count": 4,
   "id": "0b9fd38a-2a33-4d50-9e48-5ddd5374e1ff",
   "metadata": {},
   "outputs": [
    {
     "name": "stderr",
     "output_type": "stream",
     "text": [
      "[nltk_data] Downloading package stopwords to C:\\Users\\stacy.LAPTOP-\n",
      "[nltk_data]     6PR3K6I0\\AppData\\Roaming\\nltk_data...\n",
      "[nltk_data]   Package stopwords is already up-to-date!\n"
     ]
    },
    {
     "data": {
      "text/plain": [
       "0                                                 [Алло]\n",
       "1                                   [Алло, здравствуйте]\n",
       "2                                         [Добрый, день]\n",
       "3      [Меня, зовут, ангелина, компания, диджитал, би...\n",
       "4                                                  [Ага]\n",
       "                             ...                        \n",
       "475    [По, поводу, виджетов, и, с, ними, уже, обсуди...\n",
       "476    [Все, я, вам, высылаю, счет, и, с, вами, на, с...\n",
       "477                                   [Спасибо, спасибо]\n",
       "478    [Да, да, тогда, созвонимся, ага, спасибо, вам,...\n",
       "479                 [Ну, до, свидания, хорошего, вечера]\n",
       "Name: without_stopwords, Length: 480, dtype: object"
      ]
     },
     "execution_count": 4,
     "metadata": {},
     "output_type": "execute_result"
    }
   ],
   "source": [
    "# Поиск только по нормализованным строкам. Task 1. Извлекать реплики с приветствием – где менеджер поздоровался\n",
    "import pandas as pd\n",
    "import nltk\n",
    "from nltk.tokenize import word_tokenize\n",
    "from nltk.corpus import stopwords\n",
    "from string import punctuation\n",
    "nltk.download('stopwords')\n",
    "\n",
    "test_data = pd.read_csv('test_data.csv')\n",
    "greetings = ['здравствуйте', 'добрый день', 'доброе утро', 'добрый вечер']\n",
    "\n",
    "#Токенизация\n",
    "test_data['tokenized'] = test_data.apply(lambda row: nltk.word_tokenize(row['text']), axis=1)\n",
    "test_data['tokenized']\n",
    "\n",
    "#Убираем стоп слова\n",
    "stopword = stopwords.words('russian')\n",
    "test_data['without_stopwords'] = [word for word in test_data['tokenized'] if word not in stopword]\n",
    "test_data['without_stopwords']\n",
    "#test_data['text'].apply(lambda x: ' '.join(["
   ]
  },
  {
   "cell_type": "code",
   "execution_count": 5,
   "id": "59545d03-4df1-4012-93d3-27a213a86b2a",
   "metadata": {},
   "outputs": [],
   "source": [
    "# Использовать Spacy для поиска имён\n",
    "#import spacy\n",
    "#import re\n",
    "#import nltk\n",
    "\n",
    "#from nltk.tokenize import word_tokenize\n",
    "#from spacy.lang.ru.examples import sentences\n",
    "\n",
    "\n",
    "#with open('test_data - Copy.csv', 'r', encoding=\"utf8\") as csv_file:\n",
    "#    reader = csv.reader(csv_file)\n",
    "#    regExpCompl = re.compile ('[^a-zA-Zа-яА-Я ]')\n",
    "#    for row in reader:\n",
    "#        nlp = spacy.load('ru_core_news_sm')\n",
    "#        my_stopwords = ['Ага', 'Угу', 'эм', 'эр']\n",
    "#        doc = nlp(row[3])\n",
    "#        cleaned_review = regExpCompl.sub('', ', '.join(row).lower())\n",
    "#        tokens = nltk.word_tokenize(cleaned_review)    \n",
    "#        for token in doc:    \n",
    "#            if row[2] == 'manager' and 'зовут' in tokens and token.pos_ in ['PROPN']:\n",
    "#                print (token.text, token.pos_)"
   ]
  },
  {
   "cell_type": "code",
   "execution_count": null,
   "id": "1d598aa5-01f6-44a8-942a-b72df958a8d6",
   "metadata": {},
   "outputs": [],
   "source": [
    "# Использовать Spacy для поиска имён\n",
    "import spacy\n",
    "import nltk\n",
    "\n",
    "from spacy.lang.ru import Russian\n",
    "from nltk.tokenize import word_tokenize\n",
    "nlp = spacy.load('ru_core_news_sm')\n",
    "test_data = pd.read_csv('test_data.csv')\n",
    "\n",
    "#Токенизация\n",
    "test_data['tokenized'] = test_data.apply(lambda row: nltk.word_tokenize(row['text']), axis=1)\n",
    "for tokens in test_data['tokenized']:\n",
    "    for elemmas in tokens:\n",
    "        doc = nlp(elemmas)\n",
    "        for nlptoken in doc:\n",
    "            if nlptoken.pos_ == 'PROPN':\n",
    "                print(elemmas, nlptoken.pos_)"
   ]
  },
  {
   "cell_type": "code",
   "execution_count": 17,
   "id": "cead770c-77c1-4c7a-963b-0916fe686930",
   "metadata": {},
   "outputs": [],
   "source": []
  },
  {
   "cell_type": "code",
   "execution_count": null,
   "id": "1338b1c2-06b8-4f49-bae7-4fa934d60c26",
   "metadata": {},
   "outputs": [],
   "source": []
  }
 ],
 "metadata": {
  "kernelspec": {
   "display_name": "Python 3 (ipykernel)",
   "language": "python",
   "name": "python3"
  },
  "language_info": {
   "codemirror_mode": {
    "name": "ipython",
    "version": 3
   },
   "file_extension": ".py",
   "mimetype": "text/x-python",
   "name": "python",
   "nbconvert_exporter": "python",
   "pygments_lexer": "ipython3",
   "version": "3.10.7"
  }
 },
 "nbformat": 4,
 "nbformat_minor": 5
}
